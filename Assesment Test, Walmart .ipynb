{
 "cells": [
  {
   "cell_type": "markdown",
   "metadata": {},
   "source": [
    "# Descrption of the data\n",
    "## Walmart sales during 2010-02-05 to 2012-11-01\n",
    "### The dataset contatins \n",
    "    Store - the store number\n",
    "\n",
    "    Date - the week of sales\n",
    "\n",
    "    Weekly_Sales -  sales for the given store\n",
    "\n",
    "    Holiday_Flag - whether the week is a special holiday week 1 – Holiday week 0 – Non-holiday week\n",
    "\n",
    "    Temperature - Temperature on the day of sale\n",
    "\n",
    "    Fuel_Price - Cost of fuel in the region\n",
    "\n",
    "    CPI – Prevailing consumer price index\n",
    "\n",
    "    Unemployment - Prevailing unemployment rate\n",
    "\n",
    "Holiday Events\n",
    "\n",
    "Super Bowl: 12-Feb-10, 11-Feb-11, 10-Feb-12, 8-Feb-13\n",
    "\n",
    "Labour Day: 10-Sep-10, 9-Sep-11, 7-Sep-12, 6-Sep-13\n",
    "\n",
    "Thanksgiving: 26-Nov-10, 25-Nov-11, 23-Nov-12, 29-Nov-13\n",
    "\n",
    "\n",
    "Christmas: 31-Dec-10, 30-Dec-11, 28-Dec-12, 27-Dec-13"
   ]
  },
  {
   "cell_type": "markdown",
   "metadata": {},
   "source": [
    "# Tasks to be completed on the dataset\n",
    "\n",
    "\n",
    "Analysis Tasks\n",
    "\n",
    "Basic Statistics tasks\n",
    "\n",
    "    Which store has maximum sales\n",
    "\n",
    "    Which store has maximum standard deviation i.e., the sales vary a lot. Also, find out the coefficient of mean to standard deviation\n",
    "\n",
    "    Which store/s has good quarterly growth rate in Q3’2012\n",
    "\n",
    "    Some holidays have a negative impact on sales. Find out holidays which have higher sales than the mean sales in non-holiday season for all stores together\n",
    "\n",
    "    Provide a monthly and semester view of sales in units and give insights\n",
    "\n",
    "Statistical Model\n",
    "\n",
    "For Store 1 – Build  prediction models to forecast demand\n",
    "\n",
    "    Linear Regression – Utilize variables like date and restructure dates as 1 for 5 Feb 2010 (starting from the earliest date in order). Hypothesize if CPI, unemployment, and fuel price have any impact on sales.\n",
    "\n",
    "    Change dates into days by creating new variable.\n",
    "\n",
    "Select the model which gives best accuracy."
   ]
  },
  {
   "cell_type": "code",
   "execution_count": 1,
   "metadata": {},
   "outputs": [],
   "source": [
    "# importing the required libraries \n",
    "import pandas as pd\n",
    "import numpy as np\n",
    "import matplotlib.pyplot as plt\n",
    "%matplotlib inline\n",
    "import seaborn as sns"
   ]
  },
  {
   "cell_type": "code",
   "execution_count": 2,
   "metadata": {},
   "outputs": [],
   "source": [
    "# import the data into a pandas dataframe\n",
    "df = pd.read_csv(\"Walmart_Store_sales.csv\")"
   ]
  },
  {
   "cell_type": "code",
   "execution_count": 3,
   "metadata": {},
   "outputs": [
    {
     "data": {
      "text/html": [
       "<div>\n",
       "<style scoped>\n",
       "    .dataframe tbody tr th:only-of-type {\n",
       "        vertical-align: middle;\n",
       "    }\n",
       "\n",
       "    .dataframe tbody tr th {\n",
       "        vertical-align: top;\n",
       "    }\n",
       "\n",
       "    .dataframe thead th {\n",
       "        text-align: right;\n",
       "    }\n",
       "</style>\n",
       "<table border=\"1\" class=\"dataframe\">\n",
       "  <thead>\n",
       "    <tr style=\"text-align: right;\">\n",
       "      <th></th>\n",
       "      <th>Store</th>\n",
       "      <th>Date</th>\n",
       "      <th>Weekly_Sales</th>\n",
       "      <th>Holiday_Flag</th>\n",
       "      <th>Temperature</th>\n",
       "      <th>Fuel_Price</th>\n",
       "      <th>CPI</th>\n",
       "      <th>Unemployment</th>\n",
       "    </tr>\n",
       "  </thead>\n",
       "  <tbody>\n",
       "    <tr>\n",
       "      <th>0</th>\n",
       "      <td>1</td>\n",
       "      <td>05-02-2010</td>\n",
       "      <td>1643690.90</td>\n",
       "      <td>0</td>\n",
       "      <td>42.31</td>\n",
       "      <td>2.572</td>\n",
       "      <td>211.096358</td>\n",
       "      <td>8.106</td>\n",
       "    </tr>\n",
       "    <tr>\n",
       "      <th>1</th>\n",
       "      <td>1</td>\n",
       "      <td>12-02-2010</td>\n",
       "      <td>1641957.44</td>\n",
       "      <td>1</td>\n",
       "      <td>38.51</td>\n",
       "      <td>2.548</td>\n",
       "      <td>211.242170</td>\n",
       "      <td>8.106</td>\n",
       "    </tr>\n",
       "    <tr>\n",
       "      <th>2</th>\n",
       "      <td>1</td>\n",
       "      <td>19-02-2010</td>\n",
       "      <td>1611968.17</td>\n",
       "      <td>0</td>\n",
       "      <td>39.93</td>\n",
       "      <td>2.514</td>\n",
       "      <td>211.289143</td>\n",
       "      <td>8.106</td>\n",
       "    </tr>\n",
       "    <tr>\n",
       "      <th>3</th>\n",
       "      <td>1</td>\n",
       "      <td>26-02-2010</td>\n",
       "      <td>1409727.59</td>\n",
       "      <td>0</td>\n",
       "      <td>46.63</td>\n",
       "      <td>2.561</td>\n",
       "      <td>211.319643</td>\n",
       "      <td>8.106</td>\n",
       "    </tr>\n",
       "    <tr>\n",
       "      <th>4</th>\n",
       "      <td>1</td>\n",
       "      <td>05-03-2010</td>\n",
       "      <td>1554806.68</td>\n",
       "      <td>0</td>\n",
       "      <td>46.50</td>\n",
       "      <td>2.625</td>\n",
       "      <td>211.350143</td>\n",
       "      <td>8.106</td>\n",
       "    </tr>\n",
       "  </tbody>\n",
       "</table>\n",
       "</div>"
      ],
      "text/plain": [
       "   Store        Date  Weekly_Sales  Holiday_Flag  Temperature  Fuel_Price  \\\n",
       "0      1  05-02-2010    1643690.90             0        42.31       2.572   \n",
       "1      1  12-02-2010    1641957.44             1        38.51       2.548   \n",
       "2      1  19-02-2010    1611968.17             0        39.93       2.514   \n",
       "3      1  26-02-2010    1409727.59             0        46.63       2.561   \n",
       "4      1  05-03-2010    1554806.68             0        46.50       2.625   \n",
       "\n",
       "          CPI  Unemployment  \n",
       "0  211.096358         8.106  \n",
       "1  211.242170         8.106  \n",
       "2  211.289143         8.106  \n",
       "3  211.319643         8.106  \n",
       "4  211.350143         8.106  "
      ]
     },
     "execution_count": 3,
     "metadata": {},
     "output_type": "execute_result"
    }
   ],
   "source": [
    "# checking the data in the following few lines \n",
    "df.head()"
   ]
  },
  {
   "cell_type": "code",
   "execution_count": 4,
   "metadata": {},
   "outputs": [
    {
     "data": {
      "text/plain": [
       "(6435, 8)"
      ]
     },
     "execution_count": 4,
     "metadata": {},
     "output_type": "execute_result"
    }
   ],
   "source": [
    "# checking the shape of the dataframe\n",
    "df.shape"
   ]
  },
  {
   "cell_type": "code",
   "execution_count": 5,
   "metadata": {},
   "outputs": [
    {
     "data": {
      "text/plain": [
       "0       42.31\n",
       "1       38.51\n",
       "2       39.93\n",
       "3       46.63\n",
       "4       46.50\n",
       "        ...  \n",
       "6430    64.88\n",
       "6431    64.89\n",
       "6432    54.47\n",
       "6433    56.47\n",
       "6434    58.85\n",
       "Name: Temperature, Length: 6435, dtype: float64"
      ]
     },
     "execution_count": 5,
     "metadata": {},
     "output_type": "execute_result"
    }
   ],
   "source": [
    "df.Temperature"
   ]
  },
  {
   "cell_type": "code",
   "execution_count": 6,
   "metadata": {},
   "outputs": [
    {
     "data": {
      "text/plain": [
       "Store           0\n",
       "Date            0\n",
       "Weekly_Sales    0\n",
       "Holiday_Flag    0\n",
       "Temperature     0\n",
       "Fuel_Price      0\n",
       "CPI             0\n",
       "Unemployment    0\n",
       "dtype: int64"
      ]
     },
     "execution_count": 6,
     "metadata": {},
     "output_type": "execute_result"
    }
   ],
   "source": [
    "# checking for null values in the dataset\n",
    "df.isnull().sum()"
   ]
  },
  {
   "cell_type": "code",
   "execution_count": 7,
   "metadata": {},
   "outputs": [],
   "source": [
    "# sorting the data with respoect to date\n",
    "df = df.sort_values(by='Date')"
   ]
  },
  {
   "cell_type": "code",
   "execution_count": 8,
   "metadata": {},
   "outputs": [
    {
     "data": {
      "text/html": [
       "<div>\n",
       "<style scoped>\n",
       "    .dataframe tbody tr th:only-of-type {\n",
       "        vertical-align: middle;\n",
       "    }\n",
       "\n",
       "    .dataframe tbody tr th {\n",
       "        vertical-align: top;\n",
       "    }\n",
       "\n",
       "    .dataframe thead th {\n",
       "        text-align: right;\n",
       "    }\n",
       "</style>\n",
       "<table border=\"1\" class=\"dataframe\">\n",
       "  <thead>\n",
       "    <tr style=\"text-align: right;\">\n",
       "      <th></th>\n",
       "      <th>Store</th>\n",
       "      <th>Date</th>\n",
       "      <th>Weekly_Sales</th>\n",
       "      <th>Holiday_Flag</th>\n",
       "      <th>Temperature</th>\n",
       "      <th>Fuel_Price</th>\n",
       "      <th>CPI</th>\n",
       "      <th>Unemployment</th>\n",
       "    </tr>\n",
       "  </thead>\n",
       "  <tbody>\n",
       "    <tr>\n",
       "      <th>5208</th>\n",
       "      <td>37</td>\n",
       "      <td>01-04-2011</td>\n",
       "      <td>534578.78</td>\n",
       "      <td>0</td>\n",
       "      <td>67.31</td>\n",
       "      <td>3.524</td>\n",
       "      <td>213.577670</td>\n",
       "      <td>8.300</td>\n",
       "    </tr>\n",
       "    <tr>\n",
       "      <th>1204</th>\n",
       "      <td>9</td>\n",
       "      <td>01-04-2011</td>\n",
       "      <td>520962.14</td>\n",
       "      <td>0</td>\n",
       "      <td>56.12</td>\n",
       "      <td>3.524</td>\n",
       "      <td>218.445164</td>\n",
       "      <td>6.380</td>\n",
       "    </tr>\n",
       "    <tr>\n",
       "      <th>1776</th>\n",
       "      <td>13</td>\n",
       "      <td>01-04-2011</td>\n",
       "      <td>1864238.64</td>\n",
       "      <td>0</td>\n",
       "      <td>42.49</td>\n",
       "      <td>3.487</td>\n",
       "      <td>128.719935</td>\n",
       "      <td>7.193</td>\n",
       "    </tr>\n",
       "    <tr>\n",
       "      <th>2634</th>\n",
       "      <td>19</td>\n",
       "      <td>01-04-2011</td>\n",
       "      <td>1305950.22</td>\n",
       "      <td>0</td>\n",
       "      <td>30.68</td>\n",
       "      <td>3.811</td>\n",
       "      <td>134.068258</td>\n",
       "      <td>7.658</td>\n",
       "    </tr>\n",
       "    <tr>\n",
       "      <th>6066</th>\n",
       "      <td>43</td>\n",
       "      <td>01-04-2011</td>\n",
       "      <td>611585.54</td>\n",
       "      <td>0</td>\n",
       "      <td>67.79</td>\n",
       "      <td>3.524</td>\n",
       "      <td>206.673311</td>\n",
       "      <td>10.581</td>\n",
       "    </tr>\n",
       "    <tr>\n",
       "      <th>3349</th>\n",
       "      <td>24</td>\n",
       "      <td>01-04-2011</td>\n",
       "      <td>1163803.30</td>\n",
       "      <td>0</td>\n",
       "      <td>35.73</td>\n",
       "      <td>3.811</td>\n",
       "      <td>134.068258</td>\n",
       "      <td>8.212</td>\n",
       "    </tr>\n",
       "    <tr>\n",
       "      <th>2920</th>\n",
       "      <td>21</td>\n",
       "      <td>01-04-2011</td>\n",
       "      <td>732056.37</td>\n",
       "      <td>0</td>\n",
       "      <td>56.36</td>\n",
       "      <td>3.524</td>\n",
       "      <td>214.488691</td>\n",
       "      <td>7.931</td>\n",
       "    </tr>\n",
       "    <tr>\n",
       "      <th>3778</th>\n",
       "      <td>27</td>\n",
       "      <td>01-04-2011</td>\n",
       "      <td>1628868.28</td>\n",
       "      <td>0</td>\n",
       "      <td>37.27</td>\n",
       "      <td>3.811</td>\n",
       "      <td>137.955893</td>\n",
       "      <td>7.725</td>\n",
       "    </tr>\n",
       "    <tr>\n",
       "      <th>346</th>\n",
       "      <td>3</td>\n",
       "      <td>01-04-2011</td>\n",
       "      <td>374556.08</td>\n",
       "      <td>0</td>\n",
       "      <td>68.76</td>\n",
       "      <td>3.524</td>\n",
       "      <td>218.211418</td>\n",
       "      <td>7.574</td>\n",
       "    </tr>\n",
       "    <tr>\n",
       "      <th>4064</th>\n",
       "      <td>29</td>\n",
       "      <td>01-04-2011</td>\n",
       "      <td>475615.26</td>\n",
       "      <td>0</td>\n",
       "      <td>36.04</td>\n",
       "      <td>3.638</td>\n",
       "      <td>134.068258</td>\n",
       "      <td>9.966</td>\n",
       "    </tr>\n",
       "  </tbody>\n",
       "</table>\n",
       "</div>"
      ],
      "text/plain": [
       "      Store        Date  Weekly_Sales  Holiday_Flag  Temperature  Fuel_Price  \\\n",
       "5208     37  01-04-2011     534578.78             0        67.31       3.524   \n",
       "1204      9  01-04-2011     520962.14             0        56.12       3.524   \n",
       "1776     13  01-04-2011    1864238.64             0        42.49       3.487   \n",
       "2634     19  01-04-2011    1305950.22             0        30.68       3.811   \n",
       "6066     43  01-04-2011     611585.54             0        67.79       3.524   \n",
       "3349     24  01-04-2011    1163803.30             0        35.73       3.811   \n",
       "2920     21  01-04-2011     732056.37             0        56.36       3.524   \n",
       "3778     27  01-04-2011    1628868.28             0        37.27       3.811   \n",
       "346       3  01-04-2011     374556.08             0        68.76       3.524   \n",
       "4064     29  01-04-2011     475615.26             0        36.04       3.638   \n",
       "\n",
       "             CPI  Unemployment  \n",
       "5208  213.577670         8.300  \n",
       "1204  218.445164         6.380  \n",
       "1776  128.719935         7.193  \n",
       "2634  134.068258         7.658  \n",
       "6066  206.673311        10.581  \n",
       "3349  134.068258         8.212  \n",
       "2920  214.488691         7.931  \n",
       "3778  137.955893         7.725  \n",
       "346   218.211418         7.574  \n",
       "4064  134.068258         9.966  "
      ]
     },
     "execution_count": 8,
     "metadata": {},
     "output_type": "execute_result"
    }
   ],
   "source": [
    "# checking the changes that were made\n",
    "df.head(10)"
   ]
  },
  {
   "cell_type": "code",
   "execution_count": 9,
   "metadata": {},
   "outputs": [
    {
     "data": {
      "text/plain": [
       "array([37,  9, 13, 19, 43, 24, 21, 27,  3, 29, 16, 11, 22, 18, 35, 42, 10,\n",
       "       44,  4, 23, 33, 26, 15, 17,  8,  2,  1, 30, 39, 41, 31, 38,  6, 12,\n",
       "       45, 20, 40,  7, 14, 36, 25, 28,  5, 34, 32], dtype=int64)"
      ]
     },
     "execution_count": 9,
     "metadata": {},
     "output_type": "execute_result"
    }
   ],
   "source": [
    "# finding the unique number of stores \n",
    "df['Store'].unique()"
   ]
  },
  {
   "cell_type": "markdown",
   "metadata": {},
   "source": [
    "We can see that there are 45 types of stores in the data"
   ]
  },
  {
   "cell_type": "code",
   "execution_count": 10,
   "metadata": {},
   "outputs": [],
   "source": [
    "# finding the store with maximum weekly sales \n",
    "df1 = df.groupby('Store')['Weekly_Sales'].sum()"
   ]
  },
  {
   "cell_type": "code",
   "execution_count": 11,
   "metadata": {},
   "outputs": [
    {
     "data": {
      "text/plain": [
       "Store\n",
       "1    2.224028e+08\n",
       "2    2.753824e+08\n",
       "3    5.758674e+07\n",
       "4    2.995440e+08\n",
       "5    4.547569e+07\n",
       "Name: Weekly_Sales, dtype: float64"
      ]
     },
     "execution_count": 11,
     "metadata": {},
     "output_type": "execute_result"
    }
   ],
   "source": [
    "df1.head()"
   ]
  },
  {
   "cell_type": "code",
   "execution_count": 12,
   "metadata": {},
   "outputs": [
    {
     "name": "stdout",
     "output_type": "stream",
     "text": [
      "Store Number 20 has maximum Sales. Sum of Total Sales 301397792.46000004\n"
     ]
    }
   ],
   "source": [
    "# the store with Maximum weekly sales \n",
    "print(\"Store Number {} has maximum Sales. Sum of Total Sales {}\".format(df1.idxmax(),df1.max()))"
   ]
  },
  {
   "cell_type": "code",
   "execution_count": 13,
   "metadata": {},
   "outputs": [
    {
     "name": "stdout",
     "output_type": "stream",
     "text": [
      "Store number 14 has maximum Standard Deviation. STD 317569.94947550836\n"
     ]
    }
   ],
   "source": [
    "# lets find the store with the maximum standard deviation\n",
    "df_std = df.groupby('Store').agg({'Weekly_Sales':'std'})\n",
    "print(\"Store number {} has maximum Standard Deviation. STD {}\" .format(df_std['Weekly_Sales'].idxmax(),df_std['Weekly_Sales'].max()))"
   ]
  },
  {
   "cell_type": "code",
   "execution_count": 14,
   "metadata": {},
   "outputs": [
    {
     "name": "stdout",
     "output_type": "stream",
     "text": [
      "Store Number 4 has Good Quartely growth in Q3 of 2012 77516251.42\n"
     ]
    }
   ],
   "source": [
    "# lets find which store has good quarterly growth in Q3 of 2012 \n",
    "df_Q3 = df[(pd.to_datetime(df['Date'])>=pd.to_datetime('01-07-2012'))&(pd.to_datetime(df['Date'])\n",
    "                                                                       <=pd.to_datetime('30-09-2012'))]\n",
    "df_growth = df_Q3.groupby(['Store'])['Weekly_Sales'].sum()\n",
    "print('Store Number {} has Good Quartely growth in Q3 of 2012 {}'.format(df_growth.idxmax(),df_growth.max()))"
   ]
  },
  {
   "cell_type": "code",
   "execution_count": 15,
   "metadata": {},
   "outputs": [],
   "source": [
    "# the sales done during the holiday season are:\n",
    "h_sales = df[df['Holiday_Flag']==1]\n",
    "# the sales done during the weekday :\n",
    "w_sales = df[df['Holiday_Flag']==1]"
   ]
  },
  {
   "cell_type": "code",
   "execution_count": 16,
   "metadata": {},
   "outputs": [],
   "source": [
    "# Super bowl day sales :\n",
    "# Super bowl dates 12-Feb-10, 11-Feb-11, 10-Feb-12, 8-Feb-13\n",
    "sbowl_sales = h_sales[(pd.to_datetime(h_sales['Date'])==pd.to_datetime(12-2-2010)) | \n",
    "                      (pd.to_datetime(h_sales['Date'])==pd.to_datetime(11-2-2011)) |\n",
    "                      (pd.to_datetime(h_sales['Date'])==pd.to_datetime(10-2-2012)) |\n",
    "                      (pd.to_datetime(h_sales['Date'])==pd.to_datetime(9-2-2013))]"
   ]
  },
  {
   "cell_type": "code",
   "execution_count": 17,
   "metadata": {},
   "outputs": [],
   "source": [
    "# Labour Day Sales\n",
    "# Labour Day: 10-Sep-10, 9-Sep-11, 7-Sep-12, 6-Sep-13\n",
    "lday_sales = h_sales[(pd.to_datetime(h_sales['Date'])==pd.to_datetime(10-9-2010)) |\n",
    "                     (pd.to_datetime(h_sales['Date'])==pd.to_datetime(9-9-2011)) | \n",
    "                     (pd.to_datetime(h_sales['Date'])==pd.to_datetime(7-7-2012)) |\n",
    "                     (pd.to_datetime(h_sales['Date'])==pd.to_datetime(6-9-2012))]"
   ]
  },
  {
   "cell_type": "code",
   "execution_count": 18,
   "metadata": {},
   "outputs": [],
   "source": [
    "# Thanks Giving Sales \n",
    "# Thanksgiving: 26-Nov-10, 25-Nov-11, 23-Nov-12, 29-Nov-13\n",
    "tday_sales = h_sales[(pd.to_datetime(h_sales['Date'])==pd.to_datetime(26-11-2010)) |\n",
    "                     (pd.to_datetime(h_sales['Date'])==pd.to_datetime(25-11-2011)) |\n",
    "                     (pd.to_datetime(h_sales['Date'])==pd.to_datetime(23-11-2012)) |\n",
    "                     (pd.to_datetime(h_sales['Date'])==pd.to_datetime(29-11-2013))]"
   ]
  },
  {
   "cell_type": "code",
   "execution_count": 19,
   "metadata": {},
   "outputs": [],
   "source": [
    "# Christmas Sales\n",
    "# Christmas: 31-Dec-10, 30-Dec-11, 28-Dec-12, 27-Dec-13\n",
    "cday_sales = h_sales[(pd.to_datetime(h_sales['Date'])==pd.to_datetime(31-12-2010)) |\n",
    "                     (pd.to_datetime(h_sales['Date'])==pd.to_datetime(30-12-2011)) |\n",
    "                     (pd.to_datetime(h_sales['Date'])==pd.to_datetime(28-12-2012)) |\n",
    "                     (pd.to_datetime(h_sales['Date'])==pd.to_datetime(27-12-2012))]"
   ]
  },
  {
   "cell_type": "code",
   "execution_count": 20,
   "metadata": {},
   "outputs": [],
   "source": [
    "#  Non holiday sales and mean \n",
    "non_hol_sales_mean = w_sales.groupby(['Date']).agg({'Weekly_Sales':'mean'}).reset_index()"
   ]
  },
  {
   "cell_type": "code",
   "execution_count": 21,
   "metadata": {},
   "outputs": [],
   "source": [
    "# stores holiday sales sum \n",
    "hol_sales = h_sales.groupby(['Date']).agg({'Weekly_Sales':'sum'}).reset_index()"
   ]
  },
  {
   "cell_type": "code",
   "execution_count": 22,
   "metadata": {},
   "outputs": [
    {
     "name": "stdout",
     "output_type": "stream",
     "text": [
      "On 07-09-2012 the holiday sales were lower than non holiday sales and the sales amount to:48330059.30999999\n",
      "On 09-09-2011 the holiday sales were lower than non holiday sales and the sales amount to:46763227.53\n",
      "On 10-02-2012 the holiday sales were lower than non holiday sales and the sales amount to:50009407.919999994\n",
      "On 10-09-2010 the holiday sales were lower than non holiday sales and the sales amount to:45634397.84\n",
      "On 11-02-2011 the holiday sales were lower than non holiday sales and the sales amount to:47336192.79000001\n",
      "On 12-02-2010 the holiday sales were lower than non holiday sales and the sales amount to:48336677.629999995\n",
      "On 25-11-2011 the holiday sales were lower than non holiday sales and the sales amount to:66593605.25999998\n",
      "On 26-11-2010 the holiday sales were lower than non holiday sales and the sales amount to:65821003.23999999\n",
      "On 30-12-2011 the holiday sales were lower than non holiday sales and the sales amount to:46042461.04000001\n",
      "On 31-12-2010 the holiday sales were lower than non holiday sales and the sales amount to:40432518.99999999\n"
     ]
    }
   ],
   "source": [
    "# sales on the days when holiday sales were more than weekly sales\n",
    "for i in hol_sales.itertuples():\n",
    "    for j in non_hol_sales_mean.itertuples():\n",
    "        if i.Weekly_Sales > j.Weekly_Sales:\n",
    "            print(\"On {} the holiday sales were lower than non holiday sales and the sales amount to:{}\"\n",
    "                 .format(i.Date,i.Weekly_Sales))\n",
    "            break;"
   ]
  },
  {
   "cell_type": "code",
   "execution_count": 33,
   "metadata": {},
   "outputs": [
    {
     "data": {
      "text/html": [
       "<div>\n",
       "<style scoped>\n",
       "    .dataframe tbody tr th:only-of-type {\n",
       "        vertical-align: middle;\n",
       "    }\n",
       "\n",
       "    .dataframe tbody tr th {\n",
       "        vertical-align: top;\n",
       "    }\n",
       "\n",
       "    .dataframe thead th {\n",
       "        text-align: right;\n",
       "    }\n",
       "</style>\n",
       "<table border=\"1\" class=\"dataframe\">\n",
       "  <thead>\n",
       "    <tr style=\"text-align: right;\">\n",
       "      <th></th>\n",
       "      <th>Store</th>\n",
       "      <th>Date</th>\n",
       "    </tr>\n",
       "  </thead>\n",
       "  <tbody>\n",
       "    <tr>\n",
       "      <th>60</th>\n",
       "      <td>1</td>\n",
       "      <td>61</td>\n",
       "    </tr>\n",
       "    <tr>\n",
       "      <th>121</th>\n",
       "      <td>1</td>\n",
       "      <td>122</td>\n",
       "    </tr>\n",
       "    <tr>\n",
       "      <th>73</th>\n",
       "      <td>1</td>\n",
       "      <td>74</td>\n",
       "    </tr>\n",
       "    <tr>\n",
       "      <th>34</th>\n",
       "      <td>1</td>\n",
       "      <td>35</td>\n",
       "    </tr>\n",
       "    <tr>\n",
       "      <th>108</th>\n",
       "      <td>1</td>\n",
       "      <td>109</td>\n",
       "    </tr>\n",
       "  </tbody>\n",
       "</table>\n",
       "</div>"
      ],
      "text/plain": [
       "     Store  Date\n",
       "60       1    61\n",
       "121      1   122\n",
       "73       1    74\n",
       "34       1    35\n",
       "108      1   109"
      ]
     },
     "execution_count": 33,
     "metadata": {},
     "output_type": "execute_result"
    }
   ],
   "source": [
    "# now lets split the model into features and target variable to divide into train and test data\n",
    "features = df[df['Store']==1][['Store','Date']]\n",
    "date_obj = df[df['Store']==1][['Date']]\n",
    "date_obj.index +=1\n",
    "features.Date = date_obj.index\n",
    "features.head()"
   ]
  },
  {
   "cell_type": "code",
   "execution_count": 34,
   "metadata": {},
   "outputs": [
    {
     "data": {
      "text/html": [
       "<div>\n",
       "<style scoped>\n",
       "    .dataframe tbody tr th:only-of-type {\n",
       "        vertical-align: middle;\n",
       "    }\n",
       "\n",
       "    .dataframe tbody tr th {\n",
       "        vertical-align: top;\n",
       "    }\n",
       "\n",
       "    .dataframe thead th {\n",
       "        text-align: right;\n",
       "    }\n",
       "</style>\n",
       "<table border=\"1\" class=\"dataframe\">\n",
       "  <thead>\n",
       "    <tr style=\"text-align: right;\">\n",
       "      <th></th>\n",
       "      <th>Weekly_Sales</th>\n",
       "    </tr>\n",
       "  </thead>\n",
       "  <tbody>\n",
       "    <tr>\n",
       "      <th>60</th>\n",
       "      <td>1495064.75</td>\n",
       "    </tr>\n",
       "    <tr>\n",
       "      <th>121</th>\n",
       "      <td>1624477.58</td>\n",
       "    </tr>\n",
       "    <tr>\n",
       "      <th>73</th>\n",
       "      <td>1488538.09</td>\n",
       "    </tr>\n",
       "    <tr>\n",
       "      <th>34</th>\n",
       "      <td>1453329.50</td>\n",
       "    </tr>\n",
       "    <tr>\n",
       "      <th>108</th>\n",
       "      <td>1688420.76</td>\n",
       "    </tr>\n",
       "  </tbody>\n",
       "</table>\n",
       "</div>"
      ],
      "text/plain": [
       "     Weekly_Sales\n",
       "60     1495064.75\n",
       "121    1624477.58\n",
       "73     1488538.09\n",
       "34     1453329.50\n",
       "108    1688420.76"
      ]
     },
     "execution_count": 34,
     "metadata": {},
     "output_type": "execute_result"
    }
   ],
   "source": [
    "target = df[df['Store']==1][['Weekly_Sales']]\n",
    "target.head()"
   ]
  },
  {
   "cell_type": "code",
   "execution_count": 35,
   "metadata": {},
   "outputs": [],
   "source": [
    "from sklearn.model_selection import train_test_split\n",
    "x_train,x_test,y_train,y_test = train_test_split(features,target,random_state = 10)"
   ]
  },
  {
   "cell_type": "code",
   "execution_count": 36,
   "metadata": {},
   "outputs": [],
   "source": [
    "# Hypothesize if CPI, unemployment, and fuel price have any impact on sales.\n",
    "from sklearn.linear_model import LinearRegression\n",
    "lr = LinearRegression()"
   ]
  },
  {
   "cell_type": "code",
   "execution_count": 37,
   "metadata": {},
   "outputs": [
    {
     "data": {
      "text/plain": [
       "LinearRegression()"
      ]
     },
     "execution_count": 37,
     "metadata": {},
     "output_type": "execute_result"
    }
   ],
   "source": [
    "lr.fit(x_train,y_train)"
   ]
  },
  {
   "cell_type": "code",
   "execution_count": 41,
   "metadata": {},
   "outputs": [],
   "source": [
    "yhat = lr.predict(x_test)"
   ]
  },
  {
   "cell_type": "code",
   "execution_count": 43,
   "metadata": {
    "scrolled": true
   },
   "outputs": [
    {
     "data": {
      "text/plain": [
       "array([[1552300.13879483],\n",
       "       [1486536.84415029],\n",
       "       [1556931.35672755],\n",
       "       [1521734.10043892],\n",
       "       [1506914.20305423],\n",
       "       [1596759.83094889],\n",
       "       [1579161.20280458],\n",
       "       [1496725.52360226],\n",
       "       [1558783.84390064],\n",
       "       [1560636.33107372],\n",
       "       [1598612.31812198],\n",
       "       [1487463.08773683],\n",
       "       [1499504.25436189],\n",
       "       [1556005.11314101],\n",
       "       [1600464.80529507],\n",
       "       [1550447.65162175],\n",
       "       [1529144.04913126],\n",
       "       [1585644.90791038],\n",
       "       [1491168.062083  ],\n",
       "       [1554152.62596792],\n",
       "       [1504135.4722946 ],\n",
       "       [1569898.76693915],\n",
       "       [1547668.92086212],\n",
       "       [1555078.86955446],\n",
       "       [1557857.60031409],\n",
       "       [1568972.52335261],\n",
       "       [1539332.72858323],\n",
       "       [1616210.9462663 ],\n",
       "       [1511545.42098695],\n",
       "       [1610653.48474704],\n",
       "       [1575456.22845841],\n",
       "       [1543963.94651595],\n",
       "       [1546742.67727558],\n",
       "       [1523586.587612  ],\n",
       "       [1520807.85685238],\n",
       "       [1567120.03617952]])"
      ]
     },
     "execution_count": 43,
     "metadata": {},
     "output_type": "execute_result"
    }
   ],
   "source": [
    "yhat"
   ]
  },
  {
   "cell_type": "code",
   "execution_count": 46,
   "metadata": {},
   "outputs": [
    {
     "name": "stdout",
     "output_type": "stream",
     "text": [
      "Coefficients:  [[  0.         926.24358654]]\n",
      "Intercept:  [1485610.60056375]\n"
     ]
    }
   ],
   "source": [
    "print ('Coefficients: ', lr.coef_)\n",
    "print ('Intercept: ',lr.intercept_)"
   ]
  },
  {
   "cell_type": "code",
   "execution_count": 48,
   "metadata": {},
   "outputs": [
    {
     "name": "stdout",
     "output_type": "stream",
     "text": [
      "Mean Absolute Error: 92307.97\n",
      "Residual sum of squares(MSE): 28877712428.85\n",
      "R2-score: -22.42\n"
     ]
    }
   ],
   "source": [
    "from sklearn.metrics import r2_score\n",
    "print (\"Mean Absolute Error: %.2f\"%np.mean(np.absolute((yhat-y_test))) )\n",
    "print (\"Residual sum of squares(MSE): %.2f\"%np.mean((yhat-y_test)**2))\n",
    "print (\"R2-score: %.2f\"%r2_score(yhat,y_test))"
   ]
  },
  {
   "cell_type": "markdown",
   "metadata": {},
   "source": [
    " We can infer from the results above that the Linear Regression model is not very accurate for modeling the data we have at hand."
   ]
  },
  {
   "cell_type": "code",
   "execution_count": 39,
   "metadata": {},
   "outputs": [
    {
     "data": {
      "text/html": [
       "<div>\n",
       "<style scoped>\n",
       "    .dataframe tbody tr th:only-of-type {\n",
       "        vertical-align: middle;\n",
       "    }\n",
       "\n",
       "    .dataframe tbody tr th {\n",
       "        vertical-align: top;\n",
       "    }\n",
       "\n",
       "    .dataframe thead th {\n",
       "        text-align: right;\n",
       "    }\n",
       "</style>\n",
       "<table border=\"1\" class=\"dataframe\">\n",
       "  <thead>\n",
       "    <tr style=\"text-align: right;\">\n",
       "      <th></th>\n",
       "      <th>Store</th>\n",
       "      <th>CPI</th>\n",
       "      <th>Unemployment</th>\n",
       "      <th>Fuel_Price</th>\n",
       "    </tr>\n",
       "  </thead>\n",
       "  <tbody>\n",
       "    <tr>\n",
       "      <th>60</th>\n",
       "      <td>1</td>\n",
       "      <td>214.837166</td>\n",
       "      <td>7.682</td>\n",
       "      <td>3.524</td>\n",
       "    </tr>\n",
       "    <tr>\n",
       "      <th>121</th>\n",
       "      <td>1</td>\n",
       "      <td>221.747214</td>\n",
       "      <td>7.143</td>\n",
       "      <td>3.501</td>\n",
       "    </tr>\n",
       "    <tr>\n",
       "      <th>73</th>\n",
       "      <td>1</td>\n",
       "      <td>215.184137</td>\n",
       "      <td>7.962</td>\n",
       "      <td>3.524</td>\n",
       "    </tr>\n",
       "    <tr>\n",
       "      <th>34</th>\n",
       "      <td>1</td>\n",
       "      <td>211.671989</td>\n",
       "      <td>7.838</td>\n",
       "      <td>2.603</td>\n",
       "    </tr>\n",
       "    <tr>\n",
       "      <th>108</th>\n",
       "      <td>1</td>\n",
       "      <td>220.848045</td>\n",
       "      <td>7.348</td>\n",
       "      <td>3.630</td>\n",
       "    </tr>\n",
       "  </tbody>\n",
       "</table>\n",
       "</div>"
      ],
      "text/plain": [
       "     Store         CPI  Unemployment  Fuel_Price\n",
       "60       1  214.837166         7.682       3.524\n",
       "121      1  221.747214         7.143       3.501\n",
       "73       1  215.184137         7.962       3.524\n",
       "34       1  211.671989         7.838       2.603\n",
       "108      1  220.848045         7.348       3.630"
      ]
     },
     "execution_count": 39,
     "metadata": {},
     "output_type": "execute_result"
    }
   ],
   "source": [
    "# creating a features data set with CPI, unemployment, and fuel price, Store\n",
    "features_data = df[df['Store']==1][['Store','CPI','Unemployment','Fuel_Price']]\n",
    "features_data.head()"
   ]
  },
  {
   "cell_type": "code",
   "execution_count": 49,
   "metadata": {},
   "outputs": [],
   "source": [
    "# response data \n",
    "response_cpi = df[df['Store']==1]['CPI'].astype('int64')\n",
    "response_unemployment = df[df['Store']==1]['Unemployment'].astype('int64')"
   ]
  },
  {
   "cell_type": "code",
   "execution_count": 50,
   "metadata": {},
   "outputs": [],
   "source": [
    "from sklearn.model_selection import train_test_split\n",
    "xtrain_cpi,xtest_cpi,ytrain_cpi,ytest_cpi = train_test_split(features_data,response_cpi,random_state=10)"
   ]
  },
  {
   "cell_type": "code",
   "execution_count": 52,
   "metadata": {},
   "outputs": [],
   "source": [
    "xtrain_unem,xtest_unem,ytrain_unem,ytest_unem = train_test_split(features_data,response_unemployment\n",
    "                                                                ,random_state=10)"
   ]
  },
  {
   "cell_type": "code",
   "execution_count": 53,
   "metadata": {},
   "outputs": [],
   "source": [
    "from sklearn.linear_model import LogisticRegression\n",
    "logreg = LogisticRegression(max_iter=10000)\n",
    "logreg.fit(xtrain_cpi,ytrain_cpi)\n",
    "yhat_cpi = logreg.predict(xtest_cpi)\n",
    "logreg.fit(xtrain_unem,ytrain_unem)\n",
    "yhat_unem = logreg.predict(xtest_unem)"
   ]
  },
  {
   "cell_type": "code",
   "execution_count": 55,
   "metadata": {},
   "outputs": [
    {
     "name": "stdout",
     "output_type": "stream",
     "text": [
      "The accuracy for CPI prediction is: 0.6944444444444444\n"
     ]
    }
   ],
   "source": [
    "from sklearn import metrics\n",
    "print(\"The accuracy for CPI prediction is:\",metrics.accuracy_score(ytest_cpi,yhat_cpi))"
   ]
  },
  {
   "cell_type": "code",
   "execution_count": 56,
   "metadata": {},
   "outputs": [
    {
     "name": "stdout",
     "output_type": "stream",
     "text": [
      "The accuracy for Unemployement prediction is: 0.9166666666666666\n"
     ]
    }
   ],
   "source": [
    "print(\"The accuracy for Unemployement prediction is:\",metrics.accuracy_score(ytest_unem,yhat_unem))"
   ]
  },
  {
   "cell_type": "code",
   "execution_count": 57,
   "metadata": {},
   "outputs": [
    {
     "name": "stdout",
     "output_type": "stream",
     "text": [
      "CPI Actual: [214 211 215 211 211 221 219 210 215 215 221 211 210 215 221 215 211 220\n",
      " 211 215 211 217 215 215 215 217 214 223 211 222]\n",
      "CPI Predicted: [215 211 215 211 211 221 221 211 215 215 221 211 211 215 221 215 211 221\n",
      " 211 215 211 217 215 215 215 217 215 221 211 221]\n",
      "Actual Unemployment: [7 8 7 7 7 7 7 7 7 7 7 8 7 7 7 7 7 7 8 7 7 7 7 7 7 7 7 6 7 6]\n",
      "Predicted Unemployment: [7 7 7 7 7 7 7 7 7 7 7 7 7 7 7 7 7 7 7 7 7 7 7 7 7 7 7 6 7 6]\n"
     ]
    }
   ],
   "source": [
    "print ('CPI Actual:', ytest_cpi.values[0:30])\n",
    "print ('CPI Predicted:',yhat_cpi[0:30])\n",
    "print ('Actual Unemployment:',ytest_unem.values[0:30])\n",
    "print ('Predicted Unemployment:',yhat_unem[0:30])"
   ]
  },
  {
   "cell_type": "code",
   "execution_count": 58,
   "metadata": {},
   "outputs": [
    {
     "data": {
      "text/html": [
       "<div>\n",
       "<style scoped>\n",
       "    .dataframe tbody tr th:only-of-type {\n",
       "        vertical-align: middle;\n",
       "    }\n",
       "\n",
       "    .dataframe tbody tr th {\n",
       "        vertical-align: top;\n",
       "    }\n",
       "\n",
       "    .dataframe thead th {\n",
       "        text-align: right;\n",
       "    }\n",
       "</style>\n",
       "<table border=\"1\" class=\"dataframe\">\n",
       "  <thead>\n",
       "    <tr style=\"text-align: right;\">\n",
       "      <th></th>\n",
       "      <th>Store</th>\n",
       "      <th>Date</th>\n",
       "      <th>Weekly_Sales</th>\n",
       "      <th>Holiday_Flag</th>\n",
       "      <th>Temperature</th>\n",
       "      <th>Fuel_Price</th>\n",
       "      <th>CPI</th>\n",
       "      <th>Unemployment</th>\n",
       "      <th>Day</th>\n",
       "    </tr>\n",
       "  </thead>\n",
       "  <tbody>\n",
       "    <tr>\n",
       "      <th>5208</th>\n",
       "      <td>37</td>\n",
       "      <td>01-04-2011</td>\n",
       "      <td>534578.78</td>\n",
       "      <td>0</td>\n",
       "      <td>67.31</td>\n",
       "      <td>3.524</td>\n",
       "      <td>213.577670</td>\n",
       "      <td>8.300</td>\n",
       "      <td>Tuesday</td>\n",
       "    </tr>\n",
       "    <tr>\n",
       "      <th>1204</th>\n",
       "      <td>9</td>\n",
       "      <td>01-04-2011</td>\n",
       "      <td>520962.14</td>\n",
       "      <td>0</td>\n",
       "      <td>56.12</td>\n",
       "      <td>3.524</td>\n",
       "      <td>218.445164</td>\n",
       "      <td>6.380</td>\n",
       "      <td>Tuesday</td>\n",
       "    </tr>\n",
       "    <tr>\n",
       "      <th>1776</th>\n",
       "      <td>13</td>\n",
       "      <td>01-04-2011</td>\n",
       "      <td>1864238.64</td>\n",
       "      <td>0</td>\n",
       "      <td>42.49</td>\n",
       "      <td>3.487</td>\n",
       "      <td>128.719935</td>\n",
       "      <td>7.193</td>\n",
       "      <td>Tuesday</td>\n",
       "    </tr>\n",
       "    <tr>\n",
       "      <th>2634</th>\n",
       "      <td>19</td>\n",
       "      <td>01-04-2011</td>\n",
       "      <td>1305950.22</td>\n",
       "      <td>0</td>\n",
       "      <td>30.68</td>\n",
       "      <td>3.811</td>\n",
       "      <td>134.068258</td>\n",
       "      <td>7.658</td>\n",
       "      <td>Tuesday</td>\n",
       "    </tr>\n",
       "    <tr>\n",
       "      <th>6066</th>\n",
       "      <td>43</td>\n",
       "      <td>01-04-2011</td>\n",
       "      <td>611585.54</td>\n",
       "      <td>0</td>\n",
       "      <td>67.79</td>\n",
       "      <td>3.524</td>\n",
       "      <td>206.673311</td>\n",
       "      <td>10.581</td>\n",
       "      <td>Tuesday</td>\n",
       "    </tr>\n",
       "  </tbody>\n",
       "</table>\n",
       "</div>"
      ],
      "text/plain": [
       "      Store        Date  Weekly_Sales  Holiday_Flag  Temperature  Fuel_Price  \\\n",
       "5208     37  01-04-2011     534578.78             0        67.31       3.524   \n",
       "1204      9  01-04-2011     520962.14             0        56.12       3.524   \n",
       "1776     13  01-04-2011    1864238.64             0        42.49       3.487   \n",
       "2634     19  01-04-2011    1305950.22             0        30.68       3.811   \n",
       "6066     43  01-04-2011     611585.54             0        67.79       3.524   \n",
       "\n",
       "             CPI  Unemployment      Day  \n",
       "5208  213.577670         8.300  Tuesday  \n",
       "1204  218.445164         6.380  Tuesday  \n",
       "1776  128.719935         7.193  Tuesday  \n",
       "2634  134.068258         7.658  Tuesday  \n",
       "6066  206.673311        10.581  Tuesday  "
      ]
     },
     "execution_count": 58,
     "metadata": {},
     "output_type": "execute_result"
    }
   ],
   "source": [
    "# finally lets add a new columns that shows the day of the week as per the date to the dataset\n",
    "df['Day'] = pd.to_datetime(df['Date']).dt.day_name()\n",
    "df.head()"
   ]
  }
 ],
 "metadata": {
  "kernelspec": {
   "display_name": "Python 3",
   "language": "python",
   "name": "python3"
  },
  "language_info": {
   "codemirror_mode": {
    "name": "ipython",
    "version": 3
   },
   "file_extension": ".py",
   "mimetype": "text/x-python",
   "name": "python",
   "nbconvert_exporter": "python",
   "pygments_lexer": "ipython3",
   "version": "3.7.6"
  }
 },
 "nbformat": 4,
 "nbformat_minor": 4
}
